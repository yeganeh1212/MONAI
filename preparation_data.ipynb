{
 "cells": [
  {
   "cell_type": "markdown",
   "id": "e6eac5c7",
   "metadata": {},
   "source": [
    "# create groups of 64 slices"
   ]
  },
  {
   "cell_type": "code",
   "execution_count": 15,
   "id": "2fe566a9",
   "metadata": {},
   "outputs": [],
   "source": [
    "in_path = '/Users/yeganeh/Desktop/MONAI_test/data/dicom_files/image'\n",
    "out_path = '/Users/yeganeh/Desktop/MONAI_test/data/dicom_groups/image'"
   ]
  },
  {
   "cell_type": "code",
   "execution_count": 16,
   "id": "e63f6daf",
   "metadata": {},
   "outputs": [
    {
     "name": "stdout",
     "output_type": "stream",
     "text": [
      "The path exists.\n"
     ]
    }
   ],
   "source": [
    "import os\n",
    "\n",
    "# Path to the folder\n",
    "in_path = '/Users/yeganeh/Desktop/MONAI_test/data/dicom_files/image'\n",
    "\n",
    "# Check if the path exists\n",
    "if os.path.exists(in_path):\n",
    "    print(\"The path exists.\")\n",
    "else:\n",
    "    print(\"The path does not exist.\")"
   ]
  },
  {
   "cell_type": "code",
   "execution_count": null,
   "id": "9122d960",
   "metadata": {},
   "outputs": [],
   "source": []
  },
  {
   "cell_type": "code",
   "execution_count": 3,
   "id": "06326071",
   "metadata": {},
   "outputs": [
    {
     "name": "stdout",
     "output_type": "stream",
     "text": [
      "Requirement already satisfied: glob2 in /Users/yeganeh/opt/anaconda3/lib/python3.9/site-packages (0.7)\r\n"
     ]
    }
   ],
   "source": [
    "!pip3 install glob2"
   ]
  },
  {
   "cell_type": "code",
   "execution_count": 4,
   "id": "50a37abc",
   "metadata": {},
   "outputs": [
    {
     "name": "stdout",
     "output_type": "stream",
     "text": [
      "Collecting pytest-shutil\n",
      "  Downloading pytest_shutil-1.7.0-py2.py3-none-any.whl (15 kB)\n",
      "Requirement already satisfied: contextlib2 in /Users/yeganeh/opt/anaconda3/lib/python3.9/site-packages (from pytest-shutil) (0.6.0.post1)\n",
      "Requirement already satisfied: six in /Users/yeganeh/opt/anaconda3/lib/python3.9/site-packages (from pytest-shutil) (1.16.0)\n",
      "Requirement already satisfied: mock in /Users/yeganeh/opt/anaconda3/lib/python3.9/site-packages (from pytest-shutil) (4.0.3)\n",
      "Requirement already satisfied: termcolor in /Users/yeganeh/opt/anaconda3/lib/python3.9/site-packages (from pytest-shutil) (1.1.0)\n",
      "Collecting execnet\n",
      "  Downloading execnet-2.1.1-py3-none-any.whl (40 kB)\n",
      "\u001b[K     |████████████████████████████████| 40 kB 116 kB/s ta 0:00:011\n",
      "\u001b[?25hCollecting path.py\n",
      "  Downloading path.py-12.5.0-py3-none-any.whl (2.3 kB)\n",
      "Requirement already satisfied: pytest in /Users/yeganeh/opt/anaconda3/lib/python3.9/site-packages (from pytest-shutil) (6.2.4)\n",
      "Requirement already satisfied: path in /Users/yeganeh/opt/anaconda3/lib/python3.9/site-packages (from path.py->pytest-shutil) (16.0.0)\n",
      "Requirement already satisfied: attrs>=19.2.0 in /Users/yeganeh/opt/anaconda3/lib/python3.9/site-packages (from pytest->pytest-shutil) (22.1.0)\n",
      "Requirement already satisfied: iniconfig in /Users/yeganeh/opt/anaconda3/lib/python3.9/site-packages (from pytest->pytest-shutil) (1.1.1)\n",
      "Requirement already satisfied: packaging in /Users/yeganeh/opt/anaconda3/lib/python3.9/site-packages (from pytest->pytest-shutil) (21.0)\n",
      "Requirement already satisfied: pluggy<1.0.0a1,>=0.12 in /Users/yeganeh/opt/anaconda3/lib/python3.9/site-packages (from pytest->pytest-shutil) (0.13.1)\n",
      "Requirement already satisfied: py>=1.8.2 in /Users/yeganeh/opt/anaconda3/lib/python3.9/site-packages (from pytest->pytest-shutil) (1.10.0)\n",
      "Requirement already satisfied: toml in /Users/yeganeh/opt/anaconda3/lib/python3.9/site-packages (from pytest->pytest-shutil) (0.10.2)\n",
      "Requirement already satisfied: pyparsing>=2.0.2 in /Users/yeganeh/opt/anaconda3/lib/python3.9/site-packages (from packaging->pytest->pytest-shutil) (3.0.4)\n",
      "Installing collected packages: path.py, execnet, pytest-shutil\n",
      "Successfully installed execnet-2.1.1 path.py-12.5.0 pytest-shutil-1.7.0\n"
     ]
    }
   ],
   "source": [
    "!pip install pytest-shutil"
   ]
  },
  {
   "cell_type": "code",
   "execution_count": 6,
   "id": "af4191a7",
   "metadata": {},
   "outputs": [],
   "source": [
    "from glob import glob"
   ]
  },
  {
   "cell_type": "code",
   "execution_count": 7,
   "id": "251d8341",
   "metadata": {},
   "outputs": [],
   "source": [
    "import shutil"
   ]
  },
  {
   "cell_type": "code",
   "execution_count": 8,
   "id": "dcb4c914",
   "metadata": {},
   "outputs": [],
   "source": [
    "import os"
   ]
  },
  {
   "cell_type": "code",
   "execution_count": 17,
   "id": "4fd29190",
   "metadata": {},
   "outputs": [],
   "source": [
    "patient_list = glob(in_path + '/*')\n"
   ]
  },
  {
   "cell_type": "code",
   "execution_count": 18,
   "id": "1a79782e",
   "metadata": {},
   "outputs": [
    {
     "data": {
      "text/plain": [
       "['/Users/yeganeh/Desktop/MONAI_test/data/dicom_files/image/v_0',\n",
       " '/Users/yeganeh/Desktop/MONAI_test/data/dicom_files/image/v_1']"
      ]
     },
     "execution_count": 18,
     "metadata": {},
     "output_type": "execute_result"
    }
   ],
   "source": [
    "patient_list"
   ]
  },
  {
   "cell_type": "code",
   "execution_count": 19,
   "id": "379edc8b",
   "metadata": {},
   "outputs": [
    {
     "name": "stdout",
     "output_type": "stream",
     "text": [
      "1\n",
      "/Users/yeganeh/Desktop/MONAI_test/data/dicom_groups/image/v_0_0\n",
      "1\n",
      "/Users/yeganeh/Desktop/MONAI_test/data/dicom_groups/image/v_1_0\n"
     ]
    }
   ],
   "source": [
    "for patient in glob(in_path + '/*'):\n",
    "    patient_name = os.path.basename(os.path.normpath(patient))\n",
    "    number_folders = int(len(glob(patient + '/*'))/64)\n",
    "    print(number_folders)\n",
    "    for i in range(number_folders):\n",
    "        output_path_name = os.path.join(out_path , patient_name + '_' + str(i))\n",
    "        print(output_path_name)\n",
    "        os.mkdir(output_path_name)\n",
    "        \n",
    "        for i , file in enumerate(glob(patient + '/*')) :\n",
    "            \n",
    "            shutil.move(file, output_path_name)\n",
    "        \n",
    "        "
   ]
  },
  {
   "cell_type": "markdown",
   "id": "dbc2cd95",
   "metadata": {},
   "source": [
    "# Convert dicom files into nifites"
   ]
  },
  {
   "cell_type": "code",
   "execution_count": 3,
   "id": "ac9138d3",
   "metadata": {},
   "outputs": [
    {
     "name": "stdout",
     "output_type": "stream",
     "text": [
      "Collecting dicom2nifti\n",
      "  Downloading dicom2nifti-2.4.11-py3-none-any.whl (43 kB)\n",
      "\u001b[K     |████████████████████████████████| 43 kB 64 kB/s  eta 0:00:01\n",
      "\u001b[?25hRequirement already satisfied: scipy in /Users/yeganeh/opt/anaconda3/lib/python3.9/site-packages (from dicom2nifti) (1.7.1)\n",
      "Collecting python-gdcm\n",
      "  Downloading python_gdcm-3.0.24.1-cp39-cp39-macosx_10_9_x86_64.whl (12.7 MB)\n",
      "\u001b[K     |████████████████████████████████| 12.7 MB 1.8 MB/s eta 0:00:01\n",
      "\u001b[?25hRequirement already satisfied: nibabel in /Users/yeganeh/opt/anaconda3/lib/python3.9/site-packages (from dicom2nifti) (5.2.1)\n",
      "Collecting pydicom>=2.2.0\n",
      "  Downloading pydicom-2.4.4-py3-none-any.whl (1.8 MB)\n",
      "\u001b[K     |████████████████████████████████| 1.8 MB 123 kB/s eta 0:00:01\n",
      "\u001b[?25hRequirement already satisfied: numpy in /Users/yeganeh/opt/anaconda3/lib/python3.9/site-packages (from dicom2nifti) (1.23.4)\n",
      "Requirement already satisfied: packaging>=17 in /Users/yeganeh/opt/anaconda3/lib/python3.9/site-packages (from nibabel->dicom2nifti) (21.0)\n",
      "Requirement already satisfied: pyparsing>=2.0.2 in /Users/yeganeh/opt/anaconda3/lib/python3.9/site-packages (from packaging>=17->nibabel->dicom2nifti) (3.0.4)\n",
      "Collecting numpy\n",
      "  Downloading numpy-1.22.4-cp39-cp39-macosx_10_15_x86_64.whl (17.7 MB)\n",
      "\u001b[K     |████████████████████████████████| 17.7 MB 1.9 MB/s eta 0:00:01\n",
      "\u001b[?25hInstalling collected packages: numpy, python-gdcm, pydicom, dicom2nifti\n",
      "  Attempting uninstall: numpy\n",
      "    Found existing installation: numpy 1.23.4\n",
      "    Uninstalling numpy-1.23.4:\n",
      "      Successfully uninstalled numpy-1.23.4\n",
      "\u001b[31mERROR: pip's dependency resolver does not currently take into account all the packages that are installed. This behaviour is the source of the following dependency conflicts.\n",
      "daal4py 2021.3.0 requires daal==2021.2.3, which is not installed.\n",
      "numba 0.54.1 requires numpy<1.21,>=1.17, but you have numpy 1.22.4 which is incompatible.\u001b[0m\n",
      "Successfully installed dicom2nifti-2.4.11 numpy-1.22.4 pydicom-2.4.4 python-gdcm-3.0.24.1\n"
     ]
    }
   ],
   "source": [
    "!pip install dicom2nifti"
   ]
  },
  {
   "cell_type": "code",
   "execution_count": 14,
   "id": "8591c322",
   "metadata": {},
   "outputs": [],
   "source": [
    "import dicom2nifti"
   ]
  },
  {
   "cell_type": "code",
   "execution_count": 32,
   "id": "fcde9208",
   "metadata": {},
   "outputs": [],
   "source": [
    "in_path_image = '/Users/yeganeh/Desktop/MONAI_test/data/dicom_groups/image/*'\n",
    "in_path_label = '/Users/yeganeh/Desktop/MONAI_test/data/dicom_groups/label/*'\n",
    "out_path_image = '/Users/yeganeh/Desktop/MONAI_test/data/nifti_files/image'\n",
    "out_path_label = '/Users/yeganeh/Desktop/MONAI_test/data/nifti_files/label'"
   ]
  },
  {
   "cell_type": "code",
   "execution_count": 33,
   "id": "3ab65531",
   "metadata": {},
   "outputs": [],
   "source": [
    "image_list = glob(in_path_image)\n",
    "label_list = glob(in_path_label)"
   ]
  },
  {
   "cell_type": "code",
   "execution_count": 34,
   "id": "dbb336dc",
   "metadata": {},
   "outputs": [
    {
     "data": {
      "text/plain": [
       "['/Users/yeganeh/Desktop/MONAI_test/data/dicom_groups/image/v_1_0',\n",
       " '/Users/yeganeh/Desktop/MONAI_test/data/dicom_groups/image/v_0_0']"
      ]
     },
     "execution_count": 34,
     "metadata": {},
     "output_type": "execute_result"
    }
   ],
   "source": [
    "image_list"
   ]
  },
  {
   "cell_type": "code",
   "execution_count": 36,
   "id": "e3831fb0",
   "metadata": {},
   "outputs": [],
   "source": [
    "for patient in label_list :\n",
    "    patient_name = os.path.basename(os.path.normpath(patient))\n",
    "    dicom2nifti.dicom_series_to_nifti(patient, os.path.join(out_path_label, patient_name + '.nii.gz'))"
   ]
  },
  {
   "cell_type": "markdown",
   "id": "107c17f7",
   "metadata": {},
   "source": [
    "# find empty"
   ]
  },
  {
   "cell_type": "code",
   "execution_count": 41,
   "id": "5664091b",
   "metadata": {},
   "outputs": [],
   "source": [
    "import nibabel as nib\n",
    "import numpy as np"
   ]
  },
  {
   "cell_type": "code",
   "execution_count": 45,
   "id": "48eca9fe",
   "metadata": {},
   "outputs": [
    {
     "name": "stdout",
     "output_type": "stream",
     "text": [
      "3\n",
      "3\n"
     ]
    }
   ],
   "source": [
    "in_nifti_path =  '/Users/yeganeh/Desktop/MONAI_test/data/nifti_files/label/*'\n",
    "label_list = glob(in_nifti_path)\n",
    "\n",
    "for patient in label_list :\n",
    "    nifti_file = nib.load(patient)\n",
    "    fdata = nifti_file.get_fdata()\n",
    "    np_unique = np.unique(fdata)\n",
    "    print(len(np_unique))\n",
    "    if len(np_unique) == 2 :\n",
    "        print(patient)"
   ]
  },
  {
   "cell_type": "code",
   "execution_count": null,
   "id": "43cc0279",
   "metadata": {},
   "outputs": [],
   "source": []
  },
  {
   "cell_type": "code",
   "execution_count": null,
   "id": "cadc62f3",
   "metadata": {},
   "outputs": [],
   "source": []
  },
  {
   "cell_type": "code",
   "execution_count": null,
   "id": "7d925ff0",
   "metadata": {},
   "outputs": [],
   "source": []
  },
  {
   "cell_type": "code",
   "execution_count": null,
   "id": "a01b675a",
   "metadata": {},
   "outputs": [],
   "source": []
  },
  {
   "cell_type": "code",
   "execution_count": null,
   "id": "bcd2ae41",
   "metadata": {},
   "outputs": [],
   "source": []
  },
  {
   "cell_type": "code",
   "execution_count": null,
   "id": "36e8541b",
   "metadata": {},
   "outputs": [],
   "source": []
  },
  {
   "cell_type": "code",
   "execution_count": null,
   "id": "19d0baf8",
   "metadata": {},
   "outputs": [],
   "source": [
    "\n"
   ]
  }
 ],
 "metadata": {
  "kernelspec": {
   "display_name": "Python 3 (ipykernel)",
   "language": "python",
   "name": "python3"
  },
  "language_info": {
   "codemirror_mode": {
    "name": "ipython",
    "version": 3
   },
   "file_extension": ".py",
   "mimetype": "text/x-python",
   "name": "python",
   "nbconvert_exporter": "python",
   "pygments_lexer": "ipython3",
   "version": "3.9.7"
  }
 },
 "nbformat": 4,
 "nbformat_minor": 5
}
